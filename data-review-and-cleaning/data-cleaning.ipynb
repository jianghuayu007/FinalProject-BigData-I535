{
 "cells": [
  {
   "cell_type": "code",
   "execution_count": 21,
   "id": "72c19bcc-01c0-4523-9a1f-e59c49d3478b",
   "metadata": {},
   "outputs": [
    {
     "name": "stdout",
     "output_type": "stream",
     "text": [
      "No duplicated rows found.\n"
     ]
    }
   ],
   "source": [
    "import pandas as pd\n",
    "\n",
    "# Check duplicates\n",
    "def check_duplicates(input_file):\n",
    "    # Read the CSV file into a DataFrame\n",
    "    df = pd.read_csv(input_file)\n",
    "    # Check for duplicated rows\n",
    "    duplicate_rows = df[df.duplicated()]\n",
    "    if not duplicate_rows.empty:\n",
    "        print(\"Duplicated Rows:\")\n",
    "        print(duplicate_rows)\n",
    "    else:\n",
    "        print(\"No duplicated rows found.\")\n",
    "\n",
    "input_file_path = 'NYPD_Shooting_Incident_Data__Historic_.csv'\n",
    "check_duplicates(input_file_path)"
   ]
  },
  {
   "cell_type": "code",
   "execution_count": 22,
   "id": "c84448d2-f85a-4f4a-9cdc-75b7db9c8585",
   "metadata": {},
   "outputs": [],
   "source": [
    "# Drop unwanted columns\n",
    "\n",
    "# Read the CSV file into a DataFrame\n",
    "df = pd.read_csv(input_file_path)\n",
    "# define unwanted columns\n",
    "unwanted_columns = [ 'PRECINCT', 'JURISDICTION_CODE']  \n",
    "# Drop unwanted columns\n",
    "df.drop(columns=unwanted_columns, inplace=True)\n",
    "df.to_csv(input_file_path, index=False)"
   ]
  },
  {
   "cell_type": "code",
   "execution_count": null,
   "id": "d69c1ecb-19ef-4ded-93de-4a1305388064",
   "metadata": {},
   "outputs": [],
   "source": []
  }
 ],
 "metadata": {
  "kernelspec": {
   "display_name": "Python 3 (ipykernel)",
   "language": "python",
   "name": "python3"
  },
  "language_info": {
   "codemirror_mode": {
    "name": "ipython",
    "version": 3
   },
   "file_extension": ".py",
   "mimetype": "text/x-python",
   "name": "python",
   "nbconvert_exporter": "python",
   "pygments_lexer": "ipython3",
   "version": "3.11.6"
  }
 },
 "nbformat": 4,
 "nbformat_minor": 5
}
